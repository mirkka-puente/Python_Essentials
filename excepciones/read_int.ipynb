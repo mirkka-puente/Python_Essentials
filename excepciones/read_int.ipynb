{
 "cells": [
  {
   "cell_type": "markdown",
   "id": "0efb090a",
   "metadata": {},
   "source": [
    "Guión\n",
    "Su tarea es escribir una función capaz de ingresar valores enteros y verificar si están dentro de un rango especificado.\n",
    "\n",
    "La función debería:\n",
    "•\taceptar tres argumentos: un aviso(promt), un límite bajo aceptable y un límite alto aceptable;\n",
    "•\tsi el usuario ingresa una cadena que no es un valor entero, la función debe emitir el mensaje Error: Error en el ingreso y pedirle al usuario que ingrese el valor nuevamente;\n",
    "•\tsi el usuario ingresa un número que está fuera del rango especificado, la función debe emitir el mensaje Error: el valor no está en el rango permitido (min..max)y pedirle al usuario que ingrese el valor nuevamente;\n",
    "•\tSi el valor de entrada es válido, devuélvalo como resultado.\n"
   ]
  },
  {
   "cell_type": "code",
   "execution_count": 7,
   "id": "d8965e38",
   "metadata": {},
   "outputs": [
    {
     "name": "stdout",
     "output_type": "stream",
     "text": [
      "Enter a number from -10 to 10: \n",
      "-2\n",
      "The number is: -2\n"
     ]
    }
   ],
   "source": [
    "def readint(prompt, min, max):\n",
    "    while True:\n",
    "        try:\n",
    "            print(prompt)\n",
    "            x = int(input())\n",
    "            if (x >= min) and (x <= max):\n",
    "                print(\"The number is:\", x)\n",
    "            else:\n",
    "                print(\"Error: el valor no está en el rango permitido\",'(', min, max,')')\n",
    "                print(prompt)\n",
    "        except ValueError:\n",
    "            print(\"Error: Error en el ingreso \")\n",
    "        break\n",
    "        \n",
    "\n",
    "\n",
    "v = readint(\"Enter a number from -10 to 10: \", -10, 10)\n",
    "\n",
    "\n"
   ]
  },
  {
   "cell_type": "markdown",
   "id": "0e637d26",
   "metadata": {},
   "source": []
  }
 ],
 "metadata": {
  "kernelspec": {
   "display_name": "Python 3 (ipykernel)",
   "language": "python",
   "name": "python3"
  },
  "language_info": {
   "codemirror_mode": {
    "name": "ipython",
    "version": 3
   },
   "file_extension": ".py",
   "mimetype": "text/x-python",
   "name": "python",
   "nbconvert_exporter": "python",
   "pygments_lexer": "ipython3",
   "version": "3.9.12"
  }
 },
 "nbformat": 4,
 "nbformat_minor": 5
}
