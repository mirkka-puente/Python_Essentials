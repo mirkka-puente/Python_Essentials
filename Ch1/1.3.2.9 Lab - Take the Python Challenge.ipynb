{
 "cells": [
  {
   "cell_type": "markdown",
   "metadata": {},
   "source": [
    "![Título](Images/cisco.png)"
   ]
  },
  {
   "cell_type": "markdown",
   "metadata": {},
   "source": [
    "# Práctica de laboratorio: Realice el desafío de Python \n",
    "\n",
    "\n",
    "Este es un ejercicio opcional para probar su conocimiento de los principios básicos de Python. Sin embargo, recomendamos fervientemente que el estudiante complete estos ejercicios para prepararse para el resto de este curso. Si no sabe cómo resolverlos, fíjese en las lecciones de Python disponibles en la carpeta de Materiales del curso/tutoriales y demostraciones."
   ]
  },
  {
   "cell_type": "markdown",
   "metadata": {},
   "source": [
    "#### Responda las preguntas o complete las tareas detalladas a continuación; utilice el método específico descrito, si corresponde."
   ]
  },
  {
   "cell_type": "markdown",
   "metadata": {},
   "source": [
    "#### 1) ¿Cuánto es 3 a la potencia de 5?"
   ]
  },
  {
   "cell_type": "code",
   "execution_count": 1,
   "metadata": {},
   "outputs": [
    {
     "data": {
      "text/plain": [
       "243"
      ]
     },
     "execution_count": 1,
     "metadata": {},
     "output_type": "execute_result"
    }
   ],
   "source": [
    "# Code cell 1\n",
    "3**5"
   ]
  },
  {
   "cell_type": "markdown",
   "metadata": {},
   "source": [
    "#### 2) Cree una variable, *'s'*, que contenga la cadena \"¡Este curso es increíble!\". Con la variable, divida la cadena en una lista."
   ]
  },
  {
   "cell_type": "code",
   "execution_count": 1,
   "metadata": {},
   "outputs": [
    {
     "data": {
      "text/plain": [
       "['¡Este', 'curso', 'es', 'increíble!']"
      ]
     },
     "execution_count": 1,
     "metadata": {},
     "output_type": "execute_result"
    }
   ],
   "source": [
    "# Code cell 2\n",
    "s = '¡Este curso es increíble!'\n",
    "s.split()"
   ]
  },
  {
   "cell_type": "markdown",
   "metadata": {},
   "source": [
    "#### 3) Dadas las variables altura y montaña, use .format() para imprimir la cadena siguiente:\n",
    "<center>‘La altura del Monte Everest es de 8848 metros’.</center>"
   ]
  },
  {
   "cell_type": "code",
   "execution_count": 8,
   "metadata": {},
   "outputs": [
    {
     "name": "stdout",
     "output_type": "stream",
     "text": [
      "La altura del Mt. Everest es de 8848 metros\n"
     ]
    }
   ],
   "source": [
    "# Code cell 3\n",
    "mountain = \"Mt. Everest\"\n",
    "height = 8848\n",
    "print(\"La altura del {name} es de {metres} metros\".format( name = mountain, metres = height))"
   ]
  },
  {
   "cell_type": "markdown",
   "metadata": {},
   "source": [
    "#### 4) Dada la lista anidada siguiente, use la indexación para tomar la palabra '\"esto\"'."
   ]
  },
  {
   "cell_type": "code",
   "execution_count": 20,
   "metadata": {},
   "outputs": [
    {
     "data": {
      "text/plain": [
       "'this'"
      ]
     },
     "execution_count": 20,
     "metadata": {},
     "output_type": "execute_result"
    }
   ],
   "source": [
    "# Code cell 4\n",
    "lst = ['a','b',[4,10,11],['c',[1,66,['this']],2,111],'e',7]\n",
    "lst[3][1][2][0]"
   ]
  },
  {
   "cell_type": "markdown",
   "metadata": {},
   "source": [
    "#### 5) Dado el diccionario anidado siguiente, tome la palabra \"eso\". Este ejercicio es un poco más difícil."
   ]
  },
  {
   "cell_type": "code",
   "execution_count": 3,
   "metadata": {},
   "outputs": [
    {
     "data": {
      "text/plain": [
       "'that'"
      ]
     },
     "execution_count": 3,
     "metadata": {},
     "output_type": "execute_result"
    }
   ],
   "source": [
    "# Code cell 5\n",
    "d = {'k1':['val1','val2','val3',{'we':['need','to','go',{'deeper':[1,2,3,'that']}]}]}\n",
    "d['k1'][3]['we'][3]['deeper'][3]"
   ]
  },
  {
   "cell_type": "markdown",
   "metadata": {},
   "source": [
    "#### 6) ¿Cuál es la diferencia principal entre una tupla y una lista? "
   ]
  },
  {
   "cell_type": "markdown",
   "metadata": {
    "collapsed": true
   },
   "source": [
    "La tupla no puede ser cambiada luego de ser creada. En comparación una lista puede cambiar. "
   ]
  },
  {
   "cell_type": "markdown",
   "metadata": {},
   "source": [
    "#### 7) Cree una función, GetDomain(), que tome el dominio del sitio web de correo electrónico de una cadena en la forma: 'user@domain.com'.\n",
    "Por ejemplo, el paso de \"user@domain.com\" daría: domain.com"
   ]
  },
  {
   "cell_type": "code",
   "execution_count": 16,
   "metadata": {},
   "outputs": [
    {
     "data": {
      "text/plain": [
       "'domain.com'"
      ]
     },
     "execution_count": 16,
     "metadata": {},
     "output_type": "execute_result"
    }
   ],
   "source": [
    "# Code cell 6\n",
    "\n",
    "def GetDomain(s):\n",
    "    return s.split('@', 1)[-1]\n",
    "\n",
    "GetDomain('user@domain.com')"
   ]
  },
  {
   "cell_type": "markdown",
   "metadata": {},
   "source": [
    "#### 8) Cree una función básica, findInternet(), que dé una devolución de True si la palabra 'Internet' se incluye en la cadena de entrada. No se preocupe por los casos de perímetro como la puntuación que se asocia con la palabra, pero tenga en cuenta el uso de mayúsculas. (Sugerencia: vea https://docs.python.org/2/reference/expressions.html#in)"
   ]
  },
  {
   "cell_type": "code",
   "execution_count": 23,
   "metadata": {},
   "outputs": [
    {
     "data": {
      "text/plain": [
       "True"
      ]
     },
     "execution_count": 23,
     "metadata": {},
     "output_type": "execute_result"
    }
   ],
   "source": [
    "# Code cell 7\n",
    "def findInternet(s):\n",
    "    return 'internet' in s.lower().split()\n",
    "\n",
    "findInternet('The Internet Engineering Task Force was created in 1986')"
   ]
  },
  {
   "cell_type": "markdown",
   "metadata": {},
   "source": [
    "#### 9) Cree una función, countIoT(), que cuente la cantidad de veces que la palabra \"IdT\" aparece en una cadena.  Ignore los casos de perímetro pero tenga en cuenta el uso de mayúsculas."
   ]
  },
  {
   "cell_type": "code",
   "execution_count": 30,
   "metadata": {},
   "outputs": [
    {
     "data": {
      "text/plain": [
       "2"
      ]
     },
     "execution_count": 30,
     "metadata": {},
     "output_type": "execute_result"
    }
   ],
   "source": [
    "# Code cell 8\n",
    "def countIoT(st):\n",
    "    count = 0\n",
    "    l = 'IoT'\n",
    "    lista = st.split()\n",
    "    for s in lista:\n",
    "        if l in s:\n",
    "            count+=1\n",
    "    return count\n",
    "\n",
    "\n",
    "countIoT('I don\\'t know how to spell IoT ! Is it IoT or iot ? What does iot mean anyway?')"
   ]
  },
  {
   "cell_type": "markdown",
   "metadata": {},
   "source": [
    "#### 10) Utilice las expresiones lambda y la función filter() para filtrar las palabras de una lista que no comiencen con la letra 'd'. Por ejemplo:\n",
    "\n",
    "    sec = [“datos”, “sal”, “diario”, “gato”, “perro”]\n",
    "\n",
    "debe ser filtrado a:\n",
    "\n",
    "    ['datos', 'diario']"
   ]
  },
  {
   "cell_type": "code",
   "execution_count": 34,
   "metadata": {},
   "outputs": [
    {
     "data": {
      "text/plain": [
       "['data', 'dairy', 'dog']"
      ]
     },
     "execution_count": 34,
     "metadata": {},
     "output_type": "execute_result"
    }
   ],
   "source": [
    "# Code cell 9\n",
    "seq = ['data','salt' ,'dairy','cat', 'dog']\n",
    "\n",
    "func = lambda s: 'd' in s\n",
    "\n",
    "list(filter(func, seq))\n"
   ]
  },
  {
   "cell_type": "markdown",
   "metadata": {},
   "source": [
    "#### 11) Utilice las expresiones lambda y la función map() para convertir una lista de palabras a mayúsculas. Por ejemplo:"
   ]
  },
  {
   "cell_type": "markdown",
   "metadata": {},
   "source": [
    "sec = [“datos”, “sal”, “diario”, “gato”, “perro”]\n",
    "\n",
    "debe ser:\n",
    "\n",
    "   [“DATOS”, “SAL”, “DIARIO”, “GATO”, “PERRO”]"
   ]
  },
  {
   "cell_type": "code",
   "execution_count": 37,
   "metadata": {},
   "outputs": [
    {
     "data": {
      "text/plain": [
       "['DATOS', 'SAL', 'DIARIO', 'GATO', 'PERRO']"
      ]
     },
     "execution_count": 37,
     "metadata": {},
     "output_type": "execute_result"
    }
   ],
   "source": [
    "# Code cell 10\n",
    "seq = ['datos', 'sal', 'diario', 'gato', 'perro']\n",
    "\n",
    "convert = lambda s: s.upper()\n",
    "\n",
    "list(map(convert, seq))"
   ]
  },
  {
   "cell_type": "markdown",
   "metadata": {},
   "source": [
    "#### 12) Imagine un termostato inteligente conectado a la puerta que pueda detectar, además de la temperatura, el momento en el que las personas entran o salen de la casa. \n",
    "Escriba una función que, cuando la temperatura sea inferior a 20 ºC y haya personas en la casa (codificado como valor booleano que se envía como parámetro a la función), inicie la calefacción mediante la devolución de la cadena \"calefacción encendida\". Cuando la temperatura llegue a 23 grados o no haya personas en la casa, la función devuelve la cadena \"calefacción apagada\". Cuando no se cumpla ninguna de estas condiciones, la función es \"No hacer nada\"."
   ]
  },
  {
   "cell_type": "code",
   "execution_count": 42,
   "metadata": {},
   "outputs": [],
   "source": [
    "# Code cell 11\n",
    "def smart_thermostat(temp, people_in):\n",
    "    command = \"\"\n",
    "    if temp < 20 and people_in == True:\n",
    "        command = \"calefacción encendida\"\n",
    "        return command\n",
    "    elif temp == 23 or people_in == False:\n",
    "        command = \"calefacción apagada\"\n",
    "        return command\n",
    "    else:\n",
    "        command = \"No hacer nada\"\n",
    "        return command"
   ]
  },
  {
   "cell_type": "code",
   "execution_count": 40,
   "metadata": {},
   "outputs": [
    {
     "data": {
      "text/plain": [
       "'No hacer nada'"
      ]
     },
     "execution_count": 40,
     "metadata": {},
     "output_type": "execute_result"
    }
   ],
   "source": [
    "# Code cell 12\n",
    "# Verify smart_thermostat()\n",
    "smart_thermostat(21,True)"
   ]
  },
  {
   "cell_type": "code",
   "execution_count": 41,
   "metadata": {},
   "outputs": [
    {
     "data": {
      "text/plain": [
       "'calefacción apagada'"
      ]
     },
     "execution_count": 41,
     "metadata": {},
     "output_type": "execute_result"
    }
   ],
   "source": [
    "# Code cell 13\n",
    "# Verify smart_thermostat()\n",
    "smart_thermostat(21,False)"
   ]
  },
  {
   "cell_type": "code",
   "execution_count": 43,
   "metadata": {},
   "outputs": [
    {
     "data": {
      "text/plain": [
       "'calefacción encendida'"
      ]
     },
     "execution_count": 43,
     "metadata": {},
     "output_type": "execute_result"
    }
   ],
   "source": [
    "smart_thermostat(10,True)"
   ]
  },
  {
   "cell_type": "code",
   "execution_count": 44,
   "metadata": {},
   "outputs": [
    {
     "data": {
      "text/plain": [
       "'calefacción apagada'"
      ]
     },
     "execution_count": 44,
     "metadata": {},
     "output_type": "execute_result"
    }
   ],
   "source": [
    "smart_thermostat(16,False)"
   ]
  },
  {
   "cell_type": "markdown",
   "metadata": {},
   "source": [
    "#### 13) La función zip(list1, list2) devuelve una lista de tuplas, donde la tupla i-th contiene el elemento i-th de cada una de las listas de argumento. Utilice la función zip para crear la siguiente lista de tuplas:"
   ]
  },
  {
   "cell_type": "markdown",
   "metadata": {},
   "source": [
    "'comprimido = [(“Estacionamiento”, -1), (“Negocios”, 0), (“Área de restaurantes”, 1), (“oficinas”, 2)]'"
   ]
  },
  {
   "cell_type": "code",
   "execution_count": 75,
   "metadata": {},
   "outputs": [
    {
     "data": {
      "text/plain": [
       "[(-1, 'Parking'), (0, 'Shops'), (1, 'Food Court'), (2, 'Offices')]"
      ]
     },
     "execution_count": 75,
     "metadata": {},
     "output_type": "execute_result"
    }
   ],
   "source": [
    "# Code cell 14\n",
    "floor_types = ['Parking', 'Shops', 'Food Court', 'Offices']\n",
    "floor_numbers = range(-1,3)\n",
    "\n",
    "\n",
    "def zip(lista1, lista2):\n",
    "    zipped = []\n",
    "    i= 0\n",
    "    for l1 in lista1:\n",
    "        l2 = lista2[i]\n",
    "        t = tuple((l2, l1))\n",
    "        i+=1\n",
    "        zipped.append(t)\n",
    "    return zipped \n",
    "    \n",
    "zip(floor_types, floor_numbers)\n"
   ]
  },
  {
   "cell_type": "markdown",
   "metadata": {},
   "source": [
    "#### 14) Utilice la función zip y dict() para crear un diccionario, elevator_dict, donde las teclas sean los tipos de piso y los valores sean el número correspondiente del piso, de modo que:\n",
    "elevator_dict[- 1] = “Estacionamiento”"
   ]
  },
  {
   "cell_type": "code",
   "execution_count": 77,
   "metadata": {},
   "outputs": [
    {
     "name": "stdout",
     "output_type": "stream",
     "text": [
      "{-1: 'Parking', 0: 'Shops', 1: 'Food Court', 2: 'Offices'}\n"
     ]
    }
   ],
   "source": [
    "# Code cell 15\n",
    "floor_types = ['Parking', 'Shops', 'Food Court', 'Offices']\n",
    "floors_numbers = range(-1,3)\n",
    "\n",
    "\n",
    "elevator_dict = dict(zip(floor_types, floor_numbers))\n",
    "print(elevator_dict)"
   ]
  },
  {
   "cell_type": "code",
   "execution_count": 78,
   "metadata": {},
   "outputs": [
    {
     "data": {
      "text/plain": [
       "'Parking'"
      ]
     },
     "execution_count": 78,
     "metadata": {},
     "output_type": "execute_result"
    }
   ],
   "source": [
    "# Code cell 16\n",
    "# Verify elevator_dict[-1]\n",
    "elevator_dict[-1]"
   ]
  },
  {
   "cell_type": "markdown",
   "metadata": {},
   "source": [
    "#### 15) Cree una clase de 'Ascensor'. El constructor acepta la lista de cadenas 'floor_types' y la lista de números enteros 'floor_numbers'. La clase implementa los métodos 'ask_which_floor' y 'go_to_floor'. La salida de estos métodos debe verse de la siguiente manera:\n",
    "`floor_types = ['Estacionamiento', 'Negocios', 'Área de restaurantes', 'Oficinas']\n",
    "floors_numbers = rango(-1,4)\n",
    "\n",
    "el = Elevador(floor_numbers, floor_types)\n",
    "\n",
    "el.go_to_floor(1)`\n",
    "\n",
    "`¡Vaya al piso del área de restaurantes!`\n",
    "\n",
    "`el.go_to_floor(-2)`\n",
    "\n",
    "`En este edificio está el piso número -2.`\n",
    "\n",
    "`El.ask_which_floor('Oficinas')`\n",
    "\n",
    "`El piso de oficinas es el número: 2`\n",
    "\n",
    "`El.ask_which_floor('Piscina')`\n",
    "\n",
    "`No hay ningún piso con piscina en este edificio.`"
   ]
  },
  {
   "cell_type": "code",
   "execution_count": 8,
   "metadata": {},
   "outputs": [],
   "source": [
    "# Code cell 17\n",
    "class Elevator:\n",
    "    \n",
    "    def __init__(self, floor_numbers, floor_types):\n",
    "        self._floor_numbers = floor_numbers\n",
    "        self._floor_types = floor_types\n",
    "        self._number_to_type_dict = dict(zip(floor_numbers, floor_types)) \n",
    "        self._type_to_number_dict = dict(zip(floor_types, floor_numbers)) \n",
    "        \n",
    "    def ask_which_floor(self, floor_type):    \n",
    "        if floor_type in self._floor_types:\n",
    "            print('The {} floor is the number: {}.'.format(floor_type, self._type_to_number_dict[floor_type]))\n",
    "        else:\n",
    "            print('There is no {} floor in this building.'.format(floor_type))\n",
    "    \n",
    "    def go_to_floor(self, floor_number):\n",
    "        if floor_number in self._floor_numbers:\n",
    "            print('¡Vaya al piso del área de restaurantes!: {}.'.format(floor_number, self._number_to_type_dict[floor_number]))\n",
    "        else:\n",
    "            print('En este edificio no está el piso número: {}. '.format(floor_number))\n",
    "        \n",
    "    "
   ]
  },
  {
   "cell_type": "code",
   "execution_count": 9,
   "metadata": {},
   "outputs": [
    {
     "name": "stdout",
     "output_type": "stream",
     "text": [
      "¡Vaya al piso del área de restaurantes!: 1.\n"
     ]
    }
   ],
   "source": [
    "# Verify code cell 18\n",
    "floor_types = ['Estacionamiento', 'Negocios', 'Área de restaurantes', 'Oficinas']\n",
    "floor_numbers = range(-1,4)\n",
    "\n",
    "el = Elevator(floor_numbers, floor_types)\n",
    "el.go_to_floor(1)"
   ]
  },
  {
   "cell_type": "code",
   "execution_count": 10,
   "metadata": {},
   "outputs": [
    {
     "name": "stdout",
     "output_type": "stream",
     "text": [
      "En este edificio no está el piso número: -2. \n"
     ]
    }
   ],
   "source": [
    "# Verify code cell 19\n",
    "el.go_to_floor(-2)"
   ]
  },
  {
   "cell_type": "code",
   "execution_count": 11,
   "metadata": {
    "scrolled": true
   },
   "outputs": [
    {
     "name": "stdout",
     "output_type": "stream",
     "text": [
      "There is no Offices floor in this building.\n"
     ]
    }
   ],
   "source": [
    "# Verify code cell 20\n",
    "el.ask_which_floor('Offices')"
   ]
  },
  {
   "cell_type": "code",
   "execution_count": 12,
   "metadata": {},
   "outputs": [
    {
     "name": "stdout",
     "output_type": "stream",
     "text": [
      "There is no Swimming Pool floor in this building.\n"
     ]
    }
   ],
   "source": [
    "# Verify code cell 21\n",
    "el.ask_which_floor('Swimming Pool')"
   ]
  },
  {
   "cell_type": "markdown",
   "metadata": {},
   "source": [
    "# ¡Excelente trabajo!"
   ]
  },
  {
   "cell_type": "markdown",
   "metadata": {
    "collapsed": true
   },
   "source": [
    "<font size='0.5'>© 2017 Cisco y/o sus filiales. Todos los derechos reservados. Este documento es información pública de Cisco.<font>"
   ]
  }
 ],
 "metadata": {
  "anaconda-cloud": {},
  "kernelspec": {
   "display_name": "Python 3 (ipykernel)",
   "language": "python",
   "name": "python3"
  },
  "language_info": {
   "codemirror_mode": {
    "name": "ipython",
    "version": 3
   },
   "file_extension": ".py",
   "mimetype": "text/x-python",
   "name": "python",
   "nbconvert_exporter": "python",
   "pygments_lexer": "ipython3",
   "version": "3.9.12"
  }
 },
 "nbformat": 4,
 "nbformat_minor": 1
}
