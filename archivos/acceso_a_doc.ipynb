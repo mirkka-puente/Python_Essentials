{
 "cells": [
  {
   "cell_type": "code",
   "execution_count": 4,
   "id": "fb9e6ec2",
   "metadata": {},
   "outputs": [
    {
     "name": "stdout",
     "output_type": "stream",
     "text": [
      "Add a new item:exit\n",
      "All done!\n"
     ]
    }
   ],
   "source": [
    "file = open('devices.txt', 'a')\n",
    "\n",
    "while True:\n",
    "    x = input('Add a new item:')\n",
    "    newItem = x\n",
    "    if newItem != \"exit\":\n",
    "        file.write(newItem + '\\n')\n",
    "    else:\n",
    "        print(\"All done!\")\n",
    "    break\n",
    "\n",
    "file.close()"
   ]
  },
  {
   "cell_type": "code",
   "execution_count": null,
   "id": "6830e4a2",
   "metadata": {},
   "outputs": [],
   "source": []
  }
 ],
 "metadata": {
  "kernelspec": {
   "display_name": "Python 3 (ipykernel)",
   "language": "python",
   "name": "python3"
  },
  "language_info": {
   "codemirror_mode": {
    "name": "ipython",
    "version": 3
   },
   "file_extension": ".py",
   "mimetype": "text/x-python",
   "name": "python",
   "nbconvert_exporter": "python",
   "pygments_lexer": "ipython3",
   "version": "3.9.12"
  }
 },
 "nbformat": 4,
 "nbformat_minor": 5
}
