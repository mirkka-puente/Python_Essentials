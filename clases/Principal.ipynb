{
 "cells": [
  {
   "cell_type": "code",
   "execution_count": 1,
   "id": "fee18ea4",
   "metadata": {},
   "outputs": [
    {
     "name": "stdout",
     "output_type": "stream",
     "text": [
      "Seleccione una opcion \n",
      " 1.Temperatura \n",
      " 2.Longitud \n",
      " 3.Masa \n",
      "3\n",
      "Ingrese el valor a convertir \n",
      "34\n",
      "Libra a Tonelada  0.015419501133786848\n"
     ]
    }
   ],
   "source": [
    "from magnitudes import Temperatura , Masa , Longitud\n",
    "\n",
    "opcion = input(\"Seleccione una opcion \\n 1.Temperatura \\n 2.Longitud \\n 3.Masa \\n\")\n",
    "\n",
    "valor = input(\"Ingrese el valor a convertir \\n\")\n",
    "\n",
    "if(opcion == \"1\"):\n",
    "   \"\"\"op= input(\"seleccione una opciion \\n 1.kelvin-celsuis \\n\n",
    "   2.fahrenheit-celsuis \\n 3.kelvin-fahrenheit \\n\")\n",
    "    if (op==\"1\"):\"\"\" \n",
    "   obj = Temperatura(float(valor));\n",
    "   print(\"Kelvin a Celsius \" , obj.kelvinCelsius())\n",
    "   \n",
    "if(opcion==\"2\"):\n",
    "    obj = Longitud(float(valor));\n",
    "    print(\"Centimetro a Pulgada \" , obj.centimetrosPulgada())\n",
    "\n",
    "if(opcion==\"3\"):\n",
    "    obj = Masa(float(valor));\n",
    "    print(\"Libra a Tonelada \" , obj.libraTonelada())"
   ]
  },
  {
   "cell_type": "code",
   "execution_count": null,
   "id": "bcab0a79",
   "metadata": {},
   "outputs": [],
   "source": []
  }
 ],
 "metadata": {
  "kernelspec": {
   "display_name": "Python 3 (ipykernel)",
   "language": "python",
   "name": "python3"
  },
  "language_info": {
   "codemirror_mode": {
    "name": "ipython",
    "version": 3
   },
   "file_extension": ".py",
   "mimetype": "text/x-python",
   "name": "python",
   "nbconvert_exporter": "python",
   "pygments_lexer": "ipython3",
   "version": "3.9.12"
  }
 },
 "nbformat": 4,
 "nbformat_minor": 5
}
