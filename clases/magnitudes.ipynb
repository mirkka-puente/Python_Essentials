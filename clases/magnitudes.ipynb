{
 "cells": [
  {
   "cell_type": "code",
   "execution_count": 2,
   "id": "99f39686",
   "metadata": {},
   "outputs": [],
   "source": [
    "class Magnitud:\n",
    "    def __init__(self,valor):\n",
    "        self.valor = valor\n",
    "        \n",
    "class Temperatura(Magnitud):\n",
    "    def kelvinCelsius(self):\n",
    "        self.valor =  self.valor -273.1\n",
    "        return self.valor\n",
    "    def FarengeiCelsius(self):\n",
    "        self.valor = self.valor-32*5/9\n",
    "        return self.valor\n",
    "    def kelvinFarengei(self):\n",
    "        self.valor = self.valor-273*1.8+32\n",
    "        return  self.valor\n",
    "\n",
    "class Longitud(Magnitud):\n",
    "    def centimetrosPulgada(self):\n",
    "        self.valor =  self.valor / 2.54\n",
    "        return self.valor\n",
    "\n",
    "class Masa(Magnitud):\n",
    "    def libraTonelada(self):\n",
    "        self.valor =  self.valor / 2205\n",
    "        return self.valor"
   ]
  },
  {
   "cell_type": "code",
   "execution_count": null,
   "id": "276e94a5",
   "metadata": {},
   "outputs": [],
   "source": []
  }
 ],
 "metadata": {
  "kernelspec": {
   "display_name": "Python 3 (ipykernel)",
   "language": "python",
   "name": "python3"
  },
  "language_info": {
   "codemirror_mode": {
    "name": "ipython",
    "version": 3
   },
   "file_extension": ".py",
   "mimetype": "text/x-python",
   "name": "python",
   "nbconvert_exporter": "python",
   "pygments_lexer": "ipython3",
   "version": "3.9.12"
  }
 },
 "nbformat": 4,
 "nbformat_minor": 5
}
